{
 "cells": [
  {
   "cell_type": "code",
   "execution_count": 1,
   "metadata": {
    "id": "_A6_4FSdUbG8"
   },
   "outputs": [],
   "source": [
    "import time\n",
    "from tqdm import tqdm\n",
    "import torch\n",
    "import noisereduce as nr\n",
    "import librosa \n",
    "from koila import lazy\n",
    "import warnings\n",
    "warnings.filterwarnings(\"ignore\")"
   ]
  },
  {
   "cell_type": "code",
   "execution_count": 2,
   "metadata": {
    "colab": {
     "base_uri": "https://localhost:8080/"
    },
    "id": "wknhf0-9ces4",
    "outputId": "35de3a6b-d42d-4fd1-b0f7-1fe0d7f39612"
   },
   "outputs": [
    {
     "name": "stdout",
     "output_type": "stream",
     "text": [
      "Using cuda.\n"
     ]
    }
   ],
   "source": [
    "if torch.cuda.is_available():\n",
    "    device = torch.device(\"cuda\")\n",
    "else:\n",
    "    device = torch.device('cpu')\n",
    "print(\"Using {}.\".format(device))"
   ]
  },
  {
   "cell_type": "code",
   "execution_count": 3,
   "metadata": {
    "id": "yvanFej-dAtb"
   },
   "outputs": [],
   "source": [
    "import pickle\n",
    "with open('podcast_train_arrays.pkl', 'rb') as handle:\n",
    "    podcast_train_arrays = pickle.load(handle)\n",
    "with open('crowd_train_labels.pkl', 'rb') as handle:\n",
    "    crowd_train_labels = pickle.load(handle)\n",
    "with open('podcast_test_labels.pkl', 'rb') as handle:\n",
    "    podcast_test_labels = pickle.load(handle)\n",
    "with open('podcast_train_labels.pkl', 'rb') as handle:\n",
    "    podcast_train_labels = pickle.load(handle)\n",
    "with open('crowd_train_arrays.pkl', 'rb') as handle:\n",
    "    crowd_train_arrays = pickle.load(handle)\n",
    "with open('crowd_test_arrays.pkl', 'rb') as handle:\n",
    "    crowd_test_arrays = pickle.load(handle)\n",
    "with open('crowd_test_labels.pkl', 'rb') as handle:\n",
    "    crowd_test_labels = pickle.load(handle)\n",
    "with open('podcast_test_arrays.pkl', 'rb') as handle:\n",
    "    podcast_test_arrays = pickle.load(handle)"
   ]
  },
  {
   "cell_type": "code",
   "execution_count": 4,
   "metadata": {},
   "outputs": [],
   "source": [
    "import pandas as pd\n",
    "df_train = pd.DataFrame([], columns=['array', 'emotion'])\n",
    "df_train['array'] = crowd_train_arrays\n",
    "df_train['emotion'] = crowd_train_labels\n",
    "df_train = df_train.sample(frac=0.3, random_state=0)\n",
    "\n",
    "podcast_df_train = pd.DataFrame([], columns=['array', 'emotion'])\n",
    "podcast_df_train['array'] = podcast_train_arrays\n",
    "podcast_df_train['emotion'] = podcast_train_labels\n",
    "\n",
    "df_train = df_train.append(podcast_df_train)"
   ]
  },
  {
   "cell_type": "code",
   "execution_count": 5,
   "metadata": {},
   "outputs": [
    {
     "data": {
      "text/plain": [
       "(14530, 2)"
      ]
     },
     "execution_count": 5,
     "metadata": {},
     "output_type": "execute_result"
    }
   ],
   "source": [
    "df_train.shape"
   ]
  },
  {
   "cell_type": "code",
   "execution_count": 6,
   "metadata": {},
   "outputs": [],
   "source": [
    "df_test = pd.DataFrame([], columns=['array', 'emotion'])\n",
    "df_test['array'] = crowd_test_arrays\n",
    "df_test['emotion'] = crowd_test_labels\n",
    "\n",
    "\n",
    "podcast_df_test = pd.DataFrame([], columns=['array', 'emotion'])\n",
    "podcast_df_test['array'] = podcast_test_arrays\n",
    "podcast_df_test['emotion'] = podcast_test_labels\n",
    "\n",
    "df_test = df_test.append(podcast_df_test)"
   ]
  },
  {
   "cell_type": "code",
   "execution_count": 7,
   "metadata": {},
   "outputs": [
    {
     "data": {
      "text/plain": [
       "(3948, 2)"
      ]
     },
     "execution_count": 7,
     "metadata": {},
     "output_type": "execute_result"
    }
   ],
   "source": [
    "df_test.shape"
   ]
  },
  {
   "cell_type": "code",
   "execution_count": 8,
   "metadata": {},
   "outputs": [],
   "source": [
    "df_train = df_train.sample(frac=1)\n",
    "df_test = df_test.sample(frac=1)"
   ]
  },
  {
   "cell_type": "code",
   "execution_count": 9,
   "metadata": {},
   "outputs": [],
   "source": [
    "def preproc(data, sr=16000):\n",
    "    data = nr.reduce_noise(data, sr=sr)\n",
    "    xt, _ = librosa.effects.trim(data, top_db=33)\n",
    "    return xt"
   ]
  },
  {
   "cell_type": "code",
   "execution_count": 10,
   "metadata": {},
   "outputs": [
    {
     "name": "stdout",
     "output_type": "stream",
     "text": [
      "CPU times: total: 19min 54s\n",
      "Wall time: 20min 1s\n"
     ]
    }
   ],
   "source": [
    "%%time\n",
    "df_train['cleaned'] = df_train['array'].apply(preproc)\n",
    "df_test['cleaned'] = df_test['array'].apply(preproc)  "
   ]
  },
  {
   "cell_type": "code",
   "execution_count": 21,
   "metadata": {},
   "outputs": [],
   "source": [
    "podcast_df_test['cleaned'] = podcast_df_test['array'].apply(preproc)  \n",
    "\n",
    "crowd_df_test = pd.DataFrame([], columns=['array', 'emotion'])\n",
    "crowd_df_test['array'] = crowd_test_arrays\n",
    "crowd_df_test['emotion'] = crowd_test_labels\n",
    "crowd_df_test['cleaned'] = crowd_df_test['array'].apply(preproc)  "
   ]
  },
  {
   "cell_type": "code",
   "execution_count": 11,
   "metadata": {
    "id": "VlECHM7BnyTX"
   },
   "outputs": [],
   "source": [
    "from transformers import Wav2Vec2FeatureExtractor\n",
    "\n",
    "feature_extractor = Wav2Vec2FeatureExtractor.from_pretrained(\"superb/hubert-large-superb-er\")\n",
    "\n",
    "train_encodings = feature_extractor(list(df_train['cleaned']), sampling_rate=16000, padding=True, return_tensors=\"pt\")\n",
    "test_encodings = feature_extractor(list(df_test['cleaned']), sampling_rate=16000, padding=True, return_tensors=\"pt\")"
   ]
  },
  {
   "cell_type": "code",
   "execution_count": 22,
   "metadata": {},
   "outputs": [],
   "source": [
    "crowd_test_encodings = feature_extractor(list(crowd_df_test['cleaned']), sampling_rate=16000, padding=True, return_tensors=\"pt\")\n",
    "podcast_test_encodings = feature_extractor(list(podcast_df_test['cleaned']), sampling_rate=16000, padding=True, return_tensors=\"pt\")"
   ]
  },
  {
   "cell_type": "code",
   "execution_count": 23,
   "metadata": {},
   "outputs": [],
   "source": [
    "crowd_test_dataset = EmotionDataset(crowd_test_encodings, list(crowd_df_test['emotion']))  \n",
    "podcast_test_dataset = EmotionDataset(podcast_test_encodings, list(podcast_df_test['emotion']))  "
   ]
  },
  {
   "cell_type": "code",
   "execution_count": 12,
   "metadata": {
    "id": "vZbBCpgUVB5G"
   },
   "outputs": [],
   "source": [
    "class EmotionDataset(torch.utils.data.Dataset):\n",
    "    def __init__(self, encodings, labels):\n",
    "        self.encodings = encodings\n",
    "        labels_map = {\n",
    "        \"angry\": 0,\n",
    "        \"positive\": 1,\n",
    "        \"neutral\": 2,\n",
    "        \"sad\": 3,\n",
    "        #\"other\":4\n",
    "        }\n",
    "        self.labels = [labels_map[x] for x in labels]\n",
    "\n",
    "    def __getitem__(self, idx):\n",
    "        item = {key: val[idx] for key, val in self.encodings.items()}\n",
    "        item['labels'] = torch.tensor(self.labels[idx])\n",
    "        return item\n",
    "\n",
    "    def __len__(self):\n",
    "        return len(self.labels)\n",
    " \n",
    "\n",
    "train_dataset = EmotionDataset(train_encodings, list(df_train['emotion']))\n",
    "test_dataset = EmotionDataset(test_encodings, list(df_test['emotion']))  "
   ]
  },
  {
   "cell_type": "code",
   "execution_count": 13,
   "metadata": {
    "id": "z2e2CJ9RUt13"
   },
   "outputs": [],
   "source": [
    "from transformers import HubertForSequenceClassification\n",
    "from torch.optim import AdamW\n",
    "\n",
    "model = HubertForSequenceClassification.from_pretrained(\"superb/hubert-base-superb-er\")\n",
    "model.to(device)\n",
    "\n",
    "optim = AdamW(model.parameters(), lr=1e-5)"
   ]
  },
  {
   "cell_type": "code",
   "execution_count": 14,
   "metadata": {
    "id": "4yzAz0S2f4X-"
   },
   "outputs": [],
   "source": [
    "def predict(outputs):\n",
    "    probabilities = torch.softmax(outputs[\"logits\"], dim=1)\n",
    "    predictions = torch.argmax(probabilities, dim=1)\n",
    "    return predictions"
   ]
  },
  {
   "cell_type": "code",
   "execution_count": 15,
   "metadata": {
    "colab": {
     "base_uri": "https://localhost:8080/"
    },
    "id": "kxdf56_yf4Z-",
    "outputId": "f7d365c4-d1de-48d5-ec31-55d8b6f545d8",
    "scrolled": false
   },
   "outputs": [
    {
     "name": "stdout",
     "output_type": "stream",
     "text": [
      "Epoch 1/5\n"
     ]
    },
    {
     "name": "stderr",
     "output_type": "stream",
     "text": [
      "100%|██████████████████████████████████████████████████| 7265/7265 [30:03<00:00,  4.03it/s, Loss=0.523, Accuracy=0.618]\n"
     ]
    },
    {
     "name": "stdout",
     "output_type": "stream",
     "text": [
      "Test accuracy: 0.699\n",
      "Epoch 2/5\n"
     ]
    },
    {
     "name": "stderr",
     "output_type": "stream",
     "text": [
      "100%|██████████████████████████████████████████████████| 7265/7265 [26:51<00:00,  4.51it/s, Loss=1.308, Accuracy=0.740]\n"
     ]
    },
    {
     "name": "stdout",
     "output_type": "stream",
     "text": [
      "Test accuracy: 0.738\n",
      "Epoch 3/5\n"
     ]
    },
    {
     "name": "stderr",
     "output_type": "stream",
     "text": [
      "100%|██████████████████████████████████████████████████| 7265/7265 [26:08<00:00,  4.63it/s, Loss=0.270, Accuracy=0.791]\n"
     ]
    },
    {
     "name": "stdout",
     "output_type": "stream",
     "text": [
      "Test accuracy: 0.753\n",
      "Epoch 4/5\n"
     ]
    },
    {
     "name": "stderr",
     "output_type": "stream",
     "text": [
      "100%|██████████████████████████████████████████████████| 7265/7265 [24:38<00:00,  4.91it/s, Loss=0.081, Accuracy=0.831]\n"
     ]
    },
    {
     "name": "stdout",
     "output_type": "stream",
     "text": [
      "Test accuracy: 0.742\n",
      "Epoch 5/5\n"
     ]
    },
    {
     "name": "stderr",
     "output_type": "stream",
     "text": [
      "100%|██████████████████████████████████████████████████| 7265/7265 [25:23<00:00,  4.77it/s, Loss=0.001, Accuracy=0.860]\n"
     ]
    },
    {
     "name": "stdout",
     "output_type": "stream",
     "text": [
      "Test accuracy: 0.763\n"
     ]
    }
   ],
   "source": [
    "from torch.utils.data import DataLoader\n",
    "\n",
    "# Set the number of epoch\n",
    "epoch = 5\n",
    "\n",
    "# Start training\n",
    "model.train()\n",
    "\n",
    "train_loss = list()\n",
    "train_accuracies = list()\n",
    "test_accuracies = list()  # create a list to store test accuracies\n",
    "for epoch_i in range(epoch):\n",
    "    print('Epoch %s/%s' % (epoch_i + 1, epoch))\n",
    "    time.sleep(0.3)\n",
    "\n",
    "    # Get training data by DataLoader\n",
    "    train_loader = DataLoader(train_dataset, batch_size=2, shuffle=True)\n",
    "    \n",
    "    correct = 0\n",
    "    count = 0\n",
    "    epoch_loss = list()\n",
    "    \n",
    "    pbar = tqdm(train_loader)\n",
    "    for batch in pbar:\n",
    "        optim.zero_grad()\n",
    "        input_ids = batch['input_values'].to(device)\n",
    "        attention_mask = batch['attention_mask'].to(device)\n",
    "        labels = batch['labels'].to(device)\n",
    "        (input_ids, labels) = lazy(input_ids, labels, batch=0)\n",
    "        outputs = model(input_ids, attention_mask=attention_mask, labels=labels)\n",
    "        loss = outputs['loss']\n",
    "        loss.backward()\n",
    "        optim.step()\n",
    "        \n",
    "        # make predictions\n",
    "        predictions = predict(outputs)  \n",
    "\n",
    "        # count accuracy\n",
    "        correct += predictions.eq(labels).sum().item()\n",
    "        count += len(labels)\n",
    "        accuracy = correct * 1.0 / count\n",
    "\n",
    "        # show progress along with metrics\n",
    "        pbar.set_postfix({\n",
    "            'Loss': '{:.3f}'.format(loss.item()),\n",
    "            'Accuracy': '{:.3f}'.format(accuracy)\n",
    "        })  \n",
    "        \n",
    "        # record the loss for each batch\n",
    "        epoch_loss.append(loss.item()) \n",
    "        \n",
    "    pbar.close() \n",
    "     \n",
    "    # record the and accuracy for each epoch\n",
    "    train_loss += epoch_loss\n",
    "    train_accuracies.append(accuracy)\n",
    "    \n",
    "    # run the test set through the model and calculate accuracy\n",
    "    test_loader = DataLoader(test_dataset, batch_size=2, shuffle=True)\n",
    "    correct = 0\n",
    "    count = 0\n",
    "    \n",
    "    with torch.no_grad():\n",
    "        for batch in test_loader:\n",
    "            input_ids = batch['input_values'].to(device)\n",
    "            attention_mask = batch['attention_mask'].to(device)\n",
    "            labels = batch['labels'].to(device)\n",
    "            outputs = model(input_ids, attention_mask=attention_mask, labels=labels)\n",
    "            \n",
    "            # make predictions\n",
    "            predictions = predict(outputs)\n",
    "            \n",
    "            # count accuracy\n",
    "            correct += predictions.eq(labels).sum().item()\n",
    "            count += len(labels)\n",
    "            \n",
    "    test_accuracy = correct * 1.0 / count\n",
    "    test_accuracies.append(test_accuracy)\n",
    "    \n",
    "    print('Test accuracy: {:.3f}'.format(test_accuracy))\n"
   ]
  },
  {
   "cell_type": "code",
   "execution_count": 16,
   "metadata": {
    "colab": {
     "base_uri": "https://localhost:8080/"
    },
    "id": "rHn4C_GMf4cR",
    "outputId": "cb2c4a40-d4cf-415c-ad8d-66a51c267435"
   },
   "outputs": [
    {
     "name": "stderr",
     "output_type": "stream",
     "text": [
      "100%|██████████████████████████████████████████████████| 3948/3948 [03:12<00:00, 20.53it/s, loss=0.002, accuracy=0.790]\n"
     ]
    },
    {
     "name": "stdout",
     "output_type": "stream",
     "text": [
      "The final accuracy on the test dataset: 78.9767%\n"
     ]
    }
   ],
   "source": [
    "test_loader = DataLoader(test_dataset, batch_size=1, shuffle=False) \n",
    "\n",
    "model.eval()\n",
    "\n",
    "with torch.no_grad():\n",
    "       \n",
    "    correct = 0\n",
    "    count = 0\n",
    "    c\n",
    "    \n",
    "    pbar = tqdm(test_loader)\n",
    "    for batch in pbar:\n",
    "        input_ids = batch['input_values'].to(device)\n",
    "        attention_mask = batch['attention_mask'].to(device)\n",
    "        labels = batch['labels'].to(device)\n",
    "        outputs = model(input_ids, attention_mask=attention_mask, labels=labels)\n",
    "        loss = outputs['loss']\n",
    "                \n",
    "        predictions = predict(outputs)\n",
    "\n",
    "        correct += predictions.eq(labels).sum().item()\n",
    "        count += len(labels)  \n",
    "        accuracy = correct * 1.0 / count\n",
    "\n",
    "        pbar.set_postfix({\n",
    "            'loss': '{:.3f}'.format(loss.item()),\n",
    "            'accuracy': '{:.3f}'.format(accuracy)\n",
    "        })\n",
    "    \n",
    "        record[\"labels\"] += labels.cpu().numpy().tolist()\n",
    "        record[\"predictions\"] += predictions.cpu().numpy().tolist()\n",
    "        \n",
    "    pbar.close()\n",
    "    \n",
    "time.sleep(0.3)\n",
    "print(\"The final accuracy on the test dataset: %s%%\" % round(accuracy*100,4))"
   ]
  },
  {
   "cell_type": "code",
   "execution_count": 2,
   "metadata": {
    "colab": {
     "base_uri": "https://localhost:8080/",
     "height": 423
    },
    "id": "fPC2NKNLf4fo",
    "outputId": "149efd25-5b07-4f6a-be5e-5768af3ea584"
   },
   "outputs": [],
   "source": [
    "from pandas.core.frame import DataFrame\n",
    "import pandas as pd\n",
    "df_record = DataFrame(record)\n",
    "df_record.columns = [\"Ground Truth\",\"Model Prediction\"]"
   ]
  },
  {
   "cell_type": "code",
   "execution_count": 19,
   "metadata": {
    "colab": {
     "base_uri": "https://localhost:8080/",
     "height": 423
    },
    "id": "Vz1c2kJ1kyry",
    "outputId": "35eb722a-6d30-4255-e9bf-0aca7aeccb98",
    "scrolled": false
   },
   "outputs": [
    {
     "data": {
      "image/png": "[encoded data removed]",
      "text/plain": [
       "<Figure size 640x480 with 2 Axes>"
      ]
     },
     "metadata": {},
     "output_type": "display_data"
    }
   ],
   "source": [
    "## import seaborn as sns\n",
    "import matplotlib.pyplot as plt\n",
    "import seaborn as sns\n",
    "crosstab = pd.crosstab(df_record[\"Ground Truth\"],df_record[\"Model Prediction\"])\n",
    "sns.heatmap(crosstab, cmap='Blues', annot=True, fmt='g', linewidths=5)\n",
    "accuracy = df_record[\"Ground Truth\"].eq(df_record[\"Model Prediction\"]).sum() / len(df_record[\"Ground Truth\"])\n",
    "plt.title(\"Confusion Matrix (Accuracy: %s%%)\" % round(accuracy*100,2))\n",
    "plt.show()"
   ]
  },
  {
   "cell_type": "code",
   "execution_count": 26,
   "metadata": {},
   "outputs": [
    {
     "name": "stderr",
     "output_type": "stream",
     "text": [
      "100%|████████████████████████████████████████████████████| 740/740 [00:37<00:00, 19.94it/s, loss=0.165, accuracy=0.745]\n"
     ]
    },
    {
     "name": "stdout",
     "output_type": "stream",
     "text": [
      "The final accuracy on the test dataset: 74.4595%\n"
     ]
    }
   ],
   "source": [
    "podcast_test_loader = DataLoader(podcast_test_dataset, batch_size=1, shuffle=False) \n",
    "\n",
    "model.eval()\n",
    "\n",
    "with torch.no_grad():\n",
    "       \n",
    "    correct = 0\n",
    "    count = 0\n",
    "    podcast_record = {\"labels\":list(), \"predictions\":list()}\n",
    "    \n",
    "    pbar = tqdm(podcast_test_loader)\n",
    "    for batch in pbar:\n",
    "        input_ids = batch['input_values'].to(device)\n",
    "        attention_mask = batch['attention_mask'].to(device)\n",
    "        labels = batch['labels'].to(device)\n",
    "        outputs = model(input_ids, attention_mask=attention_mask, labels=labels)\n",
    "        loss = outputs['loss']\n",
    "                \n",
    "        predictions = predict(outputs)\n",
    "        \n",
    "        correct += predictions.eq(labels).sum().item()\n",
    "        count += len(labels)  \n",
    "        accuracy = correct * 1.0 / count\n",
    "        \n",
    "        pbar.set_postfix({\n",
    "            'loss': '{:.3f}'.format(loss.item()),\n",
    "            'accuracy': '{:.3f}'.format(accuracy)\n",
    "        })\n",
    "     \n",
    "        podcast_record[\"labels\"] += labels.cpu().numpy().tolist()\n",
    "        podcast_record[\"predictions\"] += predictions.cpu().numpy().tolist()\n",
    "        \n",
    "    pbar.close()\n",
    "    \n",
    "time.sleep(0.3)\n",
    "print(\"The final accuracy on the test dataset: %s%%\" % round(accuracy*100,4))"
   ]
  },
  {
   "cell_type": "code",
   "execution_count": 28,
   "metadata": {},
   "outputs": [
    {
     "data": {
      "image/png": "[encoded data removed]",
      "text/plain": [
       "<Figure size 640x480 with 2 Axes>"
      ]
     },
     "metadata": {},
     "output_type": "display_data"
    }
   ],
   "source": [
    "podcast_df_record = DataFrame(podcast_record)\n",
    "podcast_df_record.columns = [\"Ground Truth\",\"Model Prediction\"]\n",
    "\n",
    "crosstab = pd.crosstab(podcast_df_record[\"Ground Truth\"], podcast_df_record[\"Model Prediction\"])\n",
    "sns.heatmap(crosstab, cmap='Blues', annot=True, fmt='g', linewidths=5)\n",
    "accuracy = podcast_df_record[\"Ground Truth\"].eq(podcast _df_record[\"Model Prediction\"]).sum() / len(podcast_df_record[\"Ground Truth\"])\n",
    "plt.title(\"Confusion Matrix (Accuracy: %s%%)\" % round(accuracy*100,2))\n",
    "plt.show()"
   ]
  },
  {
   "cell_type": "code",
   "execution_count": 29,
   "metadata": {},
   "outputs": [
    {
     "name": "stderr",
     "output_type": "stream",
     "text": [
      "100%|██████████████████████████████████████████████████| 3208/3208 [02:39<00:00, 20.13it/s, loss=0.001, accuracy=0.800]\n"
     ]
    },
    {
     "name": "stdout",
     "output_type": "stream",
     "text": [
      "The final accuracy on the test dataset: 80.0499%\n"
     ]
    }
   ],
   "source": [
    "# Get test data by DataLoader\n",
    "crowd_test_loader = DataLoader(crowd_test_dataset, batch_size=1, shuffle=False) \n",
    "\n",
    "# Start testing\n",
    "model.eval()\n",
    "\n",
    "with torch.no_grad():\n",
    "       \n",
    "    correct = 0\n",
    "    count = 0\n",
    "    crowd_record = {\"labels\":list(), \"predictions\":list()}\n",
    "    \n",
    "    pbar = tqdm(crowd_test_loader)\n",
    "    for batch in pbar:\n",
    "        input_ids = batch['input_values'].to(device)\n",
    "        attention_mask = batch['attention_mask'].to(device)\n",
    "        labels = batch['labels'].to(device)\n",
    "        outputs = model(input_ids, attention_mask=attention_mask, labels=labels)\n",
    "        loss = outputs['loss']\n",
    "        \n",
    "        # make predictions\n",
    "        predictions = predict(outputs)\n",
    "\n",
    "        # count accuracy\n",
    "        correct += predictions.eq(labels).sum().item()\n",
    "        count += len(labels)  \n",
    "        accuracy = correct * 1.0 / count\n",
    "\n",
    "        # show progress along with metrics\n",
    "        pbar.set_postfix({\n",
    "            'loss': '{:.3f}'.format(loss.item()),\n",
    "            'accuracy': '{:.3f}'.format(accuracy)\n",
    "        })\n",
    "    \n",
    "        # record the results\n",
    "        crowd_record[\"labels\"] += labels.cpu().numpy().tolist()\n",
    "        crowd_record[\"predictions\"] += predictions.cpu().numpy().tolist()\n",
    "        \n",
    "    pbar.close()\n",
    "    \n",
    "time.sleep(0.3)\n",
    "print(\"The final accuracy on the test dataset: %s%%\" % round(accuracy*100,4))"
   ]
  },
  {
   "cell_type": "code",
   "execution_count": 30,
   "metadata": {},
   "outputs": [
    {
     "data": {
      "image/png": "[encoded data removed]",
      "text/plain": [
       "<Figure size 640x480 with 2 Axes>"
      ]
     },
     "metadata": {},
     "output_type": "display_data"
    }
   ],
   "source": [
    "crowd_df_record = DataFrame(crowd_record)\n",
    "crowd_df_record.columns = [\"Ground Truth\",\"Model Prediction\"]\n",
    "\n",
    "crosstab = pd.crosstab(crowd_df_record[\"Ground Truth\"], crowd_df_record[\"Model Prediction\"])\n",
    "sns.heatmap(crosstab, cmap='Blues', annot=True, fmt='g', linewidths=5)\n",
    "accuracy = crowd_df_record[\"Ground Truth\"].eq(crowd_df_record[\"Model Prediction\"]).sum() / len(crowd_df_record[\"Ground Truth\"])\n",
    "plt.title(\"Confusion Matrix (Accuracy: %s%%)\" % round(accuracy*100,2))\n",
    "plt.show()"
   ]
  },
  {
   "cell_type": "code",
   "execution_count": 23,
   "metadata": {},
   "outputs": [],
   "source": [
    "torch.save(model, \"ser_full_789.pkl\")"
   ]
  }
 ],
 "metadata": {
  "accelerator": "GPU",
  "colab": {
   "provenance": []
  },
  "gpuClass": "standard",
  "kernelspec": {
   "display_name": "Python 3 (ipykernel)",
   "language": "python",
   "name": "python3"
  },
  "language_info": {
   "codemirror_mode": {
    "name": "ipython",
    "version": 3
   },
   "file_extension": ".py",
   "mimetype": "text/x-python",
   "name": "python",
   "nbconvert_exporter": "python",
   "pygments_lexer": "ipython3",
   "version": "3.10.9"
  }
 },
 "nbformat": 4,
 "nbformat_minor": 1
}
